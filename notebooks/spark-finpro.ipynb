{
 "cells": [
  {
   "cell_type": "code",
   "execution_count": 1,
   "id": "b0890142-7eba-4f26-8f3a-7638372cb9de",
   "metadata": {
    "tags": []
   },
   "outputs": [],
   "source": [
    "import pyspark\n",
    "import os\n",
    "import json\n",
    "import argparse\n",
    "from dotenv import load_dotenv\n",
    "from pathlib import Path\n",
    "from pyspark.sql import functions as F\n",
    "from pyspark.sql.window import Window\n",
    "from pyspark.sql.types import *"
   ]
  },
  {
   "cell_type": "code",
   "execution_count": 2,
   "id": "8a56c1f5-b8ff-4178-a2e5-fb92a81ed033",
   "metadata": {
    "tags": []
   },
   "outputs": [],
   "source": [
    "from pyspark.sql import SparkSession\n",
    "spark_session = SparkSession.builder\\\n",
    "  .appName('dibimbing_finpro')\\\n",
    "  .master('local')\\\n",
    "  .getOrCreate()\n",
    "# spark_context_new = spark_session.sparkContext\n",
    "# spark_context_new"
   ]
  },
  {
   "cell_type": "code",
   "execution_count": 3,
   "id": "4c44ebc8-0a81-45f4-bb95-2f42e9283701",
   "metadata": {
    "tags": []
   },
   "outputs": [],
   "source": [
    "# Created schema for calender.csv and  extract into a dataframe\n",
    "\n",
    "schema_date = StructType([\n",
    "    StructField('TransactionID', StringType()),\n",
    "    StructField('CustomerID', StringType()),\n",
    "    StructField('CustomerDOB', StringType()),\n",
    "    StructField('CustGender', StringType()),\n",
    "    StructField('CustLocation', StringType()),\n",
    "    StructField('CustAccountBalance', FloatType()),\n",
    "    StructField('TransactionDate', StringType()),\n",
    "    StructField('TransactionTime', StringType()),\n",
    "    StructField('TransactionAmoun', FloatType())\n",
    "])\n",
    "df_data = spark_session.read.csv('../..//resources/data/bank_transactions.csv', header=True, schema=schema_date)"
   ]
  },
  {
   "cell_type": "code",
   "execution_count": 4,
   "id": "24ffc45e-26ec-4c1b-a61e-0ba513579cf6",
   "metadata": {
    "tags": []
   },
   "outputs": [
    {
     "name": "stdout",
     "output_type": "stream",
     "text": [
      "+-------------+----------+-----------+----------+------------+------------------+---------------+---------------+----------------+\n",
      "|TransactionID|CustomerID|CustomerDOB|CustGender|CustLocation|CustAccountBalance|TransactionDate|TransactionTime|TransactionAmoun|\n",
      "+-------------+----------+-----------+----------+------------+------------------+---------------+---------------+----------------+\n",
      "|           T1|  C5841053|    10/1/94|         F|  JAMSHEDPUR|          17819.05|         2/8/16|         143207|            25.0|\n",
      "|           T2|  C2142763|     4/4/57|         M|     JHAJJAR|           2270.69|         2/8/16|         141858|         27999.0|\n",
      "|           T3|  C4417068|   26/11/96|         F|      MUMBAI|          17874.44|         2/8/16|         142712|           459.0|\n",
      "|           T4|  C5342380|    14/9/73|         F|      MUMBAI|          866503.2|         2/8/16|         142714|          2060.0|\n",
      "|           T5|  C9031234|    24/3/88|         F| NAVI MUMBAI|           6714.43|         2/8/16|         181156|          1762.5|\n",
      "+-------------+----------+-----------+----------+------------+------------------+---------------+---------------+----------------+\n",
      "only showing top 5 rows\n",
      "\n"
     ]
    }
   ],
   "source": [
    "df_data.show(5)"
   ]
  },
  {
   "cell_type": "code",
   "execution_count": 5,
   "id": "f7ebdcdf-1f76-4bf1-91e2-939fb28af537",
   "metadata": {
    "tags": []
   },
   "outputs": [],
   "source": [
    "df_data = df_data.withColumn(\"CustomerDOB\", F.expr(\"replace(CustomerDOB, '/', '-')\"))\n",
    "df_data = df_data.withColumn(\"TransactionDate\", F.expr(\"replace(TransactionDate, '/', '-')\"))"
   ]
  },
  {
   "cell_type": "code",
   "execution_count": 6,
   "id": "e24c96fa-2658-4b1c-9870-65406981e40e",
   "metadata": {
    "tags": []
   },
   "outputs": [
    {
     "name": "stdout",
     "output_type": "stream",
     "text": [
      "+-------------+----------+-----------+----------+------------+------------------+---------------+---------------+----------------+\n",
      "|TransactionID|CustomerID|CustomerDOB|CustGender|CustLocation|CustAccountBalance|TransactionDate|TransactionTime|TransactionAmoun|\n",
      "+-------------+----------+-----------+----------+------------+------------------+---------------+---------------+----------------+\n",
      "|           T1|  C5841053|    10-1-94|         F|  JAMSHEDPUR|          17819.05|         2-8-16|         143207|            25.0|\n",
      "|           T2|  C2142763|     4-4-57|         M|     JHAJJAR|           2270.69|         2-8-16|         141858|         27999.0|\n",
      "|           T3|  C4417068|   26-11-96|         F|      MUMBAI|          17874.44|         2-8-16|         142712|           459.0|\n",
      "|           T4|  C5342380|    14-9-73|         F|      MUMBAI|          866503.2|         2-8-16|         142714|          2060.0|\n",
      "|           T5|  C9031234|    24-3-88|         F| NAVI MUMBAI|           6714.43|         2-8-16|         181156|          1762.5|\n",
      "|           T6|  C1536588|    8-10-72|         F|    ITANAGAR|           53609.2|         2-8-16|         173940|           676.0|\n",
      "|           T7|  C7126560|    26-1-92|         F|      MUMBAI|            973.46|         2-8-16|         173806|           566.0|\n",
      "|           T8|  C1220223|    27-1-82|         M|      MUMBAI|          95075.54|         2-8-16|         170537|           148.0|\n",
      "|           T9|  C8536061|    19-4-88|         F|     GURGAON|          14906.96|         2-8-16|         192825|           833.0|\n",
      "|          T10|  C6638934|    22-6-84|         M|      MUMBAI|           4279.22|         2-8-16|         192446|          289.11|\n",
      "+-------------+----------+-----------+----------+------------+------------------+---------------+---------------+----------------+\n",
      "only showing top 10 rows\n",
      "\n"
     ]
    }
   ],
   "source": [
    "df_data.show(10)"
   ]
  },
  {
   "cell_type": "markdown",
   "id": "c21a3320-d616-4abe-b706-b49d059d5532",
   "metadata": {},
   "source": [
    "left_df = df.withColumn(\"left_text_2\", F.expr(\"substring(text, length(text)-1, 2)\"))"
   ]
  },
  {
   "cell_type": "markdown",
   "id": "3cd13736-5149-49fe-b592-49af936c7ebb",
   "metadata": {},
   "source": [
    "(df\n",
    "    .withColumn('y', F.substring('col', 0, 2).cast('int'))\n",
    "    .withColumn('y', F\n",
    "        .when(F.col('y') <= 68, F.col('y') + 2000)\n",
    "        .otherwise(F.col('y') + 1900)\n",
    "    )\n",
    "    .withColumn('t_date', F.concat('y', F.regexp_replace('col', '(\\d{2})(\\d{2})(\\d{2})', '-$2-$3')))\n",
    "    .show()\n",
    ")\n",
    "\n",
    " Output\n",
    " +---+------+----+----------+\n",
    " | id|   col|   y|    t_date|\n",
    " +---+------+----+----------+\n",
    " |  1|210927|2021|2021-09-27|\n",
    " |  2|910927|1991|1991-09-27|\n",
    " +---+------+----+----------+"
   ]
  },
  {
   "cell_type": "code",
   "execution_count": 7,
   "id": "e213f3b1-6d1a-4561-9a99-d5e75699dc87",
   "metadata": {
    "tags": []
   },
   "outputs": [],
   "source": [
    "df_data = df_data.withColumn(\"y_DOB\", F.expr(\"substring(CustomerDOB, length(CustomerDOB)-1, 2)\").cast('int'))\n",
    "df_data = df_data.withColumn(\"y_transac\", F.expr(\"substring(TransactionDate, length(TransactionDate)-1, 2)\").cast('int'))"
   ]
  },
  {
   "cell_type": "code",
   "execution_count": 8,
   "id": "dbd71542-8af0-4ea9-b24f-c20bdf0cfa23",
   "metadata": {
    "tags": []
   },
   "outputs": [
    {
     "name": "stdout",
     "output_type": "stream",
     "text": [
      "+-------------+----------+-----------+----------+------------+------------------+---------------+---------------+----------------+-----+---------+\n",
      "|TransactionID|CustomerID|CustomerDOB|CustGender|CustLocation|CustAccountBalance|TransactionDate|TransactionTime|TransactionAmoun|y_DOB|y_transac|\n",
      "+-------------+----------+-----------+----------+------------+------------------+---------------+---------------+----------------+-----+---------+\n",
      "|           T1|  C5841053|    10-1-94|         F|  JAMSHEDPUR|          17819.05|         2-8-16|         143207|            25.0|   94|       16|\n",
      "|           T2|  C2142763|     4-4-57|         M|     JHAJJAR|           2270.69|         2-8-16|         141858|         27999.0|   57|       16|\n",
      "|           T3|  C4417068|   26-11-96|         F|      MUMBAI|          17874.44|         2-8-16|         142712|           459.0|   96|       16|\n",
      "|           T4|  C5342380|    14-9-73|         F|      MUMBAI|          866503.2|         2-8-16|         142714|          2060.0|   73|       16|\n",
      "|           T5|  C9031234|    24-3-88|         F| NAVI MUMBAI|           6714.43|         2-8-16|         181156|          1762.5|   88|       16|\n",
      "|           T6|  C1536588|    8-10-72|         F|    ITANAGAR|           53609.2|         2-8-16|         173940|           676.0|   72|       16|\n",
      "|           T7|  C7126560|    26-1-92|         F|      MUMBAI|            973.46|         2-8-16|         173806|           566.0|   92|       16|\n",
      "|           T8|  C1220223|    27-1-82|         M|      MUMBAI|          95075.54|         2-8-16|         170537|           148.0|   82|       16|\n",
      "|           T9|  C8536061|    19-4-88|         F|     GURGAON|          14906.96|         2-8-16|         192825|           833.0|   88|       16|\n",
      "|          T10|  C6638934|    22-6-84|         M|      MUMBAI|           4279.22|         2-8-16|         192446|          289.11|   84|       16|\n",
      "+-------------+----------+-----------+----------+------------+------------------+---------------+---------------+----------------+-----+---------+\n",
      "only showing top 10 rows\n",
      "\n"
     ]
    }
   ],
   "source": [
    "df_data.show(10)"
   ]
  },
  {
   "cell_type": "code",
   "execution_count": 9,
   "id": "a32e3fc1-7dbe-4a79-b900-3846b1bc05ec",
   "metadata": {},
   "outputs": [],
   "source": [
    "df_data = df_data.withColumn(\"f_CustomerDOB\", \n",
    "                             F.when(F.col(\"y_DOB\") <=  30, F.col('y_DOB') + 2000)\n",
    "                             .otherwise(F.col('y_DOB') + 1900))\n",
    "\n",
    "df_data = df_data.withColumn(\"f_TransactionDate\", \n",
    "                             F.when(F.col(\"y_transac\") <=  30, F.col('y_transac') + 2000)\n",
    "                             .otherwise(F.col('y_transac') + 1900))"
   ]
  },
  {
   "cell_type": "code",
   "execution_count": 10,
   "id": "a04ef27a-1767-43a1-b22b-b7b53a8dc352",
   "metadata": {
    "tags": []
   },
   "outputs": [
    {
     "name": "stdout",
     "output_type": "stream",
     "text": [
      "+-------------+----------+-----------+----------+------------+------------------+---------------+---------------+----------------+-----+---------+-------------+-----------------+\n",
      "|TransactionID|CustomerID|CustomerDOB|CustGender|CustLocation|CustAccountBalance|TransactionDate|TransactionTime|TransactionAmoun|y_DOB|y_transac|f_CustomerDOB|f_TransactionDate|\n",
      "+-------------+----------+-----------+----------+------------+------------------+---------------+---------------+----------------+-----+---------+-------------+-----------------+\n",
      "|           T1|  C5841053|    10-1-94|         F|  JAMSHEDPUR|          17819.05|         2-8-16|         143207|            25.0|   94|       16|         1994|             2016|\n",
      "|           T2|  C2142763|     4-4-57|         M|     JHAJJAR|           2270.69|         2-8-16|         141858|         27999.0|   57|       16|         1957|             2016|\n",
      "|           T3|  C4417068|   26-11-96|         F|      MUMBAI|          17874.44|         2-8-16|         142712|           459.0|   96|       16|         1996|             2016|\n",
      "|           T4|  C5342380|    14-9-73|         F|      MUMBAI|          866503.2|         2-8-16|         142714|          2060.0|   73|       16|         1973|             2016|\n",
      "|           T5|  C9031234|    24-3-88|         F| NAVI MUMBAI|           6714.43|         2-8-16|         181156|          1762.5|   88|       16|         1988|             2016|\n",
      "|           T6|  C1536588|    8-10-72|         F|    ITANAGAR|           53609.2|         2-8-16|         173940|           676.0|   72|       16|         1972|             2016|\n",
      "|           T7|  C7126560|    26-1-92|         F|      MUMBAI|            973.46|         2-8-16|         173806|           566.0|   92|       16|         1992|             2016|\n",
      "|           T8|  C1220223|    27-1-82|         M|      MUMBAI|          95075.54|         2-8-16|         170537|           148.0|   82|       16|         1982|             2016|\n",
      "|           T9|  C8536061|    19-4-88|         F|     GURGAON|          14906.96|         2-8-16|         192825|           833.0|   88|       16|         1988|             2016|\n",
      "|          T10|  C6638934|    22-6-84|         M|      MUMBAI|           4279.22|         2-8-16|         192446|          289.11|   84|       16|         1984|             2016|\n",
      "+-------------+----------+-----------+----------+------------+------------------+---------------+---------------+----------------+-----+---------+-------------+-----------------+\n",
      "only showing top 10 rows\n",
      "\n"
     ]
    }
   ],
   "source": [
    "df_data.show(10)"
   ]
  },
  {
   "cell_type": "code",
   "execution_count": 11,
   "id": "f98395e5-e2ef-4fd0-8927-7040418151c3",
   "metadata": {
    "tags": []
   },
   "outputs": [],
   "source": [
    "df_data = df_data.withColumn(\"f_CustomerDOB\", F.concat(F.expr(\"substring(CustomerDOB, 1, length(CustomerDOB)-2)\"), df_data.f_CustomerDOB))\n",
    "\n",
    "df_data = df_data.withColumn(\"f_TransactionDate\", F.concat(F.expr(\"substring(TransactionDate, 1, length(TransactionDate)-2)\"), df_data.f_TransactionDate))"
   ]
  },
  {
   "cell_type": "code",
   "execution_count": 13,
   "id": "da9458da-39ed-4f57-aa90-3deb6a682517",
   "metadata": {
    "tags": []
   },
   "outputs": [],
   "source": [
    "df_data = df_data.withColumn(\"TransactionTime\", \n",
    "                             F.expr(\"concat(substring(TransactionTime, 1, 2), ':', substring(TransactionTime, 3, 2), ':', substring(TransactionTime, 5, 2))\"))"
   ]
  },
  {
   "cell_type": "code",
   "execution_count": 14,
   "id": "2187dbcb-9abd-4ed2-b965-ec1ca7eac9df",
   "metadata": {
    "tags": []
   },
   "outputs": [
    {
     "name": "stdout",
     "output_type": "stream",
     "text": [
      "+-------------+----------+-----------+----------+------------+------------------+---------------+---------------+----------------+-----+---------+-------------+-----------------+\n",
      "|TransactionID|CustomerID|CustomerDOB|CustGender|CustLocation|CustAccountBalance|TransactionDate|TransactionTime|TransactionAmoun|y_DOB|y_transac|f_CustomerDOB|f_TransactionDate|\n",
      "+-------------+----------+-----------+----------+------------+------------------+---------------+---------------+----------------+-----+---------+-------------+-----------------+\n",
      "|           T1|  C5841053|    10-1-94|         F|  JAMSHEDPUR|          17819.05|         2-8-16|       14:32:07|            25.0|   94|       16|    10-1-1994|         2-8-2016|\n",
      "|           T2|  C2142763|     4-4-57|         M|     JHAJJAR|           2270.69|         2-8-16|       14:18:58|         27999.0|   57|       16|     4-4-1957|         2-8-2016|\n",
      "|           T3|  C4417068|   26-11-96|         F|      MUMBAI|          17874.44|         2-8-16|       14:27:12|           459.0|   96|       16|   26-11-1996|         2-8-2016|\n",
      "|           T4|  C5342380|    14-9-73|         F|      MUMBAI|          866503.2|         2-8-16|       14:27:14|          2060.0|   73|       16|    14-9-1973|         2-8-2016|\n",
      "|           T5|  C9031234|    24-3-88|         F| NAVI MUMBAI|           6714.43|         2-8-16|       18:11:56|          1762.5|   88|       16|    24-3-1988|         2-8-2016|\n",
      "|           T6|  C1536588|    8-10-72|         F|    ITANAGAR|           53609.2|         2-8-16|       17:39:40|           676.0|   72|       16|    8-10-1972|         2-8-2016|\n",
      "|           T7|  C7126560|    26-1-92|         F|      MUMBAI|            973.46|         2-8-16|       17:38:06|           566.0|   92|       16|    26-1-1992|         2-8-2016|\n",
      "|           T8|  C1220223|    27-1-82|         M|      MUMBAI|          95075.54|         2-8-16|       17:05:37|           148.0|   82|       16|    27-1-1982|         2-8-2016|\n",
      "|           T9|  C8536061|    19-4-88|         F|     GURGAON|          14906.96|         2-8-16|       19:28:25|           833.0|   88|       16|    19-4-1988|         2-8-2016|\n",
      "|          T10|  C6638934|    22-6-84|         M|      MUMBAI|           4279.22|         2-8-16|       19:24:46|          289.11|   84|       16|    22-6-1984|         2-8-2016|\n",
      "+-------------+----------+-----------+----------+------------+------------------+---------------+---------------+----------------+-----+---------+-------------+-----------------+\n",
      "only showing top 10 rows\n",
      "\n"
     ]
    }
   ],
   "source": [
    "df_data.show(10)"
   ]
  },
  {
   "cell_type": "code",
   "execution_count": 15,
   "id": "c9646bd8-d7dc-4c93-a72a-69f70363f6f0",
   "metadata": {
    "tags": []
   },
   "outputs": [],
   "source": [
    "df_data = df_data.drop(\"CustomerDOB\",\"TransactionDate\", \"y_DOB\",\"y_transac\")"
   ]
  },
  {
   "cell_type": "code",
   "execution_count": 17,
   "id": "4e31d518-a58d-4948-b7d4-9318c046a1ce",
   "metadata": {
    "tags": []
   },
   "outputs": [
    {
     "name": "stdout",
     "output_type": "stream",
     "text": [
      "+-------------+----------+----------+------------+------------------+---------------+----------------+-------------+-----------------+\n",
      "|TransactionID|CustomerID|CustGender|CustLocation|CustAccountBalance|TransactionTime|TransactionAmoun|f_CustomerDOB|f_TransactionDate|\n",
      "+-------------+----------+----------+------------+------------------+---------------+----------------+-------------+-----------------+\n",
      "|           T1|  C5841053|         F|  JAMSHEDPUR|          17819.05|       14:32:07|            25.0|    10-1-1994|         2-8-2016|\n",
      "|           T2|  C2142763|         M|     JHAJJAR|           2270.69|       14:18:58|         27999.0|     4-4-1957|         2-8-2016|\n",
      "|           T3|  C4417068|         F|      MUMBAI|          17874.44|       14:27:12|           459.0|   26-11-1996|         2-8-2016|\n",
      "|           T4|  C5342380|         F|      MUMBAI|          866503.2|       14:27:14|          2060.0|    14-9-1973|         2-8-2016|\n",
      "|           T5|  C9031234|         F| NAVI MUMBAI|           6714.43|       18:11:56|          1762.5|    24-3-1988|         2-8-2016|\n",
      "+-------------+----------+----------+------------+------------------+---------------+----------------+-------------+-----------------+\n",
      "only showing top 5 rows\n",
      "\n"
     ]
    }
   ],
   "source": [
    "df_data.show(5)"
   ]
  },
  {
   "cell_type": "code",
   "execution_count": 18,
   "id": "42592836-4153-4032-86a7-d33c6419afdb",
   "metadata": {
    "tags": []
   },
   "outputs": [],
   "source": [
    "df_dim_transaction = df_data.select(\"TransactionID\",\"f_TransactionDate\", \"TransactionTime\", \"TransactionAmoun\")"
   ]
  },
  {
   "cell_type": "code",
   "execution_count": 22,
   "id": "66153bc9-a540-4a6f-a7a0-23c646202e08",
   "metadata": {
    "tags": []
   },
   "outputs": [],
   "source": [
    "df_dim_Customer = df_data.select(\"CustomerID\",\"CustGender\", \"CustLocation\", \"CustAccountBalance\", \"f_CustomerDOB\")\\\n",
    "                         .dropDuplicates()"
   ]
  },
  {
   "cell_type": "code",
   "execution_count": 26,
   "id": "ab9fc2ed-61e5-4e35-8ffc-0baf975741d5",
   "metadata": {
    "tags": []
   },
   "outputs": [],
   "source": [
    "df_fact_transac = df_data.select(\"TransactionID\", \"CustomerID\")"
   ]
  },
  {
   "cell_type": "code",
   "execution_count": 27,
   "id": "ed8e62fc-b1e2-469b-9abc-d703ae8f7aeb",
   "metadata": {
    "tags": []
   },
   "outputs": [],
   "source": [
    "# Stop the Spark session\n",
    "spark_session.stop()"
   ]
  },
  {
   "cell_type": "code",
   "execution_count": null,
   "id": "1c7d7ca3-efb3-4d81-989b-575bf878f917",
   "metadata": {},
   "outputs": [],
   "source": []
  },
  {
   "cell_type": "code",
   "execution_count": null,
   "id": "44b2eaa1-3c96-4fe3-96fa-436019caabb8",
   "metadata": {},
   "outputs": [],
   "source": []
  },
  {
   "cell_type": "code",
   "execution_count": null,
   "id": "aa97f0de-2984-47a2-9c55-42762a1369b1",
   "metadata": {},
   "outputs": [],
   "source": []
  }
 ],
 "metadata": {
  "kernelspec": {
   "display_name": "Python 3 (ipykernel)",
   "language": "python",
   "name": "python3"
  },
  "language_info": {
   "codemirror_mode": {
    "name": "ipython",
    "version": 3
   },
   "file_extension": ".py",
   "mimetype": "text/x-python",
   "name": "python",
   "nbconvert_exporter": "python",
   "pygments_lexer": "ipython3",
   "version": "3.10.10"
  }
 },
 "nbformat": 4,
 "nbformat_minor": 5
}
